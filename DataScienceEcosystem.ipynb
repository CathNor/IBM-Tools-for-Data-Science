{
  "metadata": {
    "kernelspec": {
      "name": "python",
      "display_name": "Python (Pyodide)",
      "language": "python"
    },
    "language_info": {
      "codemirror_mode": {
        "name": "python",
        "version": 3
      },
      "file_extension": ".py",
      "mimetype": "text/x-python",
      "name": "python",
      "nbconvert_exporter": "python",
      "pygments_lexer": "ipython3",
      "version": "3.8"
    }
  },
  "nbformat_minor": 5,
  "nbformat": 4,
  "cells": [
    {
      "id": "25ad157d-707a-44a4-9235-5a6663a43696",
      "cell_type": "markdown",
      "source": "# Data Science Tools and Ecosystem",
      "metadata": {}
    },
    {
      "id": "a0b36588-9393-4311-8256-8d4b323cfcc5",
      "cell_type": "markdown",
      "source": "In this notebook, Data Science Tools and Ecosystem are summarized.\n",
      "metadata": {}
    },
    {
      "id": "ccb3ae49-7d0d-49bc-95f8-88c4d628c7c7",
      "cell_type": "markdown",
      "source": "* List popular languages for Data Science\n* Commonly used libraries\n* Arithmetic expressions",
      "metadata": {}
    },
    {
      "id": "fca712ac-7c83-404f-b407-2877ae6aa564",
      "cell_type": "markdown",
      "source": "Some of the popular languages that Data Scientists use are:\n1. Python\n2. R\n3. Julia\n4. SQL ",
      "metadata": {}
    },
    {
      "id": "6a732d22-b887-4035-a174-355584957a98",
      "cell_type": "markdown",
      "source": "Some of the commonly used libraries used by Data Scientists include:\n1. PANDAS\n2. NumPy\n3. TensorFlow\n4. Matplotlip\n\n\n\n",
      "metadata": {}
    },
    {
      "id": "b7588af3-ef1b-4da5-94d8-c76d8e816c1e",
      "cell_type": "markdown",
      "source": "|Data Science Tools|\n|-|\n|Jupyter Lab|\n|RStudio|\n|PyCharm|",
      "metadata": {}
    },
    {
      "id": "6c3253f3-d370-4435-9821-9990f871ab9e",
      "cell_type": "markdown",
      "source": "### Below are a few examples of evaluating arithmetic expressions in Python.\n\n",
      "metadata": {}
    },
    {
      "id": "dcd9e3bc-b28d-4045-a8e6-bbf47c7d55b3",
      "cell_type": "code",
      "source": "#  This a simple arithmetic expression to mutiply then add integers\n(3*4)+5",
      "metadata": {
        "trusted": true
      },
      "outputs": [
        {
          "execution_count": 1,
          "output_type": "execute_result",
          "data": {
            "text/plain": "17"
          },
          "metadata": {}
        }
      ],
      "execution_count": 1
    },
    {
      "id": "3468ef59-de41-4ca6-b642-5a9c5ce9d847",
      "cell_type": "code",
      "source": "# This will convert 200 minutes to hours by diving by 60\n200/60",
      "metadata": {
        "trusted": true
      },
      "outputs": [
        {
          "execution_count": 2,
          "output_type": "execute_result",
          "data": {
            "text/plain": "3.3333333333333335"
          },
          "metadata": {}
        }
      ],
      "execution_count": 2
    },
    {
      "id": "5060091f-e825-4686-8637-5b8f8b591165",
      "cell_type": "markdown",
      "source": "## Author\nCathinka",
      "metadata": {}
    }
  ]
}